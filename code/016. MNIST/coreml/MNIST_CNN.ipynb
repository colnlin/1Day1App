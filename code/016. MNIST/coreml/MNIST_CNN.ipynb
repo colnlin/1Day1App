{
 "cells": [
  {
   "cell_type": "markdown",
   "metadata": {},
   "source": [
    "# Import necessary libraries"
   ]
  },
  {
   "cell_type": "code",
   "execution_count": 1,
   "metadata": {},
   "outputs": [
    {
     "name": "stderr",
     "output_type": "stream",
     "text": [
      "Using TensorFlow backend.\n"
     ]
    }
   ],
   "source": [
    "import numpy as np\n",
    "import matplotlib.pyplot as plt\n",
    "%matplotlib inline\n",
    "\n",
    "import keras\n",
    "\n",
    "from keras.datasets import mnist\n",
    "from keras.models import Sequential\n",
    "from keras.layers import Dense, Dropout, Flatten\n",
    "from keras.layers.convolutional import Conv2D, MaxPooling2D\n",
    "from keras.utils import np_utils\n",
    "\n",
    "# (Making sure) Set backend as tensorflow\n",
    "from keras import backend as K\n",
    "K.set_image_dim_ordering('tf')"
   ]
  },
  {
   "cell_type": "markdown",
   "metadata": {},
   "source": [
    "# Dataset\n",
    "Keras has helper functions to setup the MNIST dataset. Let us create the train and test split."
   ]
  },
  {
   "cell_type": "code",
   "execution_count": 2,
   "metadata": {},
   "outputs": [
    {
     "name": "stdout",
     "output_type": "stream",
     "text": [
      "X_train: (60000, 28, 28) y_train: (60000,)\n",
      "X_test : (10000, 28, 28) y_test : (10000,)\n"
     ]
    }
   ],
   "source": [
    "(X_train, y_train), (X_test, y_test) = mnist.load_data()\n",
    "print \"X_train:\", X_train.shape, \"y_train:\", y_train.shape\n",
    "print \"X_test :\", X_test.shape, \"y_test :\", y_test.shape"
   ]
  },
  {
   "cell_type": "markdown",
   "metadata": {},
   "source": [
    "# Re-format Input\n",
    "Let us reshape the data into TensorFlow friendly format: (batch_size, num_rows, num_cols, num_channels)"
   ]
  },
  {
   "cell_type": "code",
   "execution_count": 3,
   "metadata": {},
   "outputs": [
    {
     "name": "stdout",
     "output_type": "stream",
     "text": [
      "X_train: (60000, 28, 28, 1) X_test: (10000, 28, 28, 1)\n"
     ]
    }
   ],
   "source": [
    "num_rows = 28\n",
    "num_cols = 28\n",
    "num_channels = 1\n",
    "num_classes = 10\n",
    "\n",
    "X_train = X_train.reshape(X_train.shape[0], num_rows, num_cols, num_channels).astype(np.float32) / 255\n",
    "X_test = X_test.reshape(X_test.shape[0], num_rows, num_cols, num_channels).astype(np.float32) / 255\n",
    "\n",
    "print \"X_train:\", X_train.shape, \"X_test:\", X_test.shape"
   ]
  },
  {
   "cell_type": "markdown",
   "metadata": {},
   "source": [
    "# Re-format Output\n",
    "The output is classification among ten classes [0..9]. "
   ]
  },
  {
   "cell_type": "code",
   "execution_count": 4,
   "metadata": {},
   "outputs": [
    {
     "name": "stdout",
     "output_type": "stream",
     "text": [
      "y_train: (60000, 10) y_test: (10000, 10)\n"
     ]
    }
   ],
   "source": [
    "y_train = np_utils.to_categorical(y_train)\n",
    "y_test = np_utils.to_categorical(y_test)\n",
    "\n",
    "print \"y_train:\", y_train.shape, \"y_test:\", y_test.shape"
   ]
  },
  {
   "cell_type": "markdown",
   "metadata": {},
   "source": [
    "# Visualize the data"
   ]
  },
  {
   "cell_type": "code",
   "execution_count": 5,
   "metadata": {},
   "outputs": [
    {
     "data": {
      "image/png": "[encoded data removed]",
      "text/plain": [
       "<Figure size 432x288 with 1 Axes>"
      ]
     },
     "metadata": {},
     "output_type": "display_data"
    },
    {
     "name": "stdout",
     "output_type": "stream",
     "text": [
      "Label: 7\n"
     ]
    }
   ],
   "source": [
    "im = X_train[1001,:,:,0]\n",
    "plt.imshow(im,cmap='gray')\n",
    "plt.show()\n",
    "\n",
    "print 'Label:',np.nonzero(y_train[1001,:])[0][0]"
   ]
  },
  {
   "cell_type": "code",
   "execution_count": 15,
   "metadata": {},
   "outputs": [
    {
     "data": {
      "image/png": "[encoded data removed]",
      "text/plain": [
       "<Figure size 432x288 with 1 Axes>"
      ]
     },
     "metadata": {},
     "output_type": "display_data"
    },
    {
     "name": "stdout",
     "output_type": "stream",
     "text": [
      "Label: 3\n"
     ]
    }
   ],
   "source": [
    "im = X_train[1,:,:,0]\n",
    "plt.imshow(im,cmap='gray')\n",
    "plt.show()\n",
    "\n",
    "print 'Label:',np.nonzero(y_train[5036,:])[0][0]"
   ]
  },
  {
   "cell_type": "markdown",
   "metadata": {},
   "source": [
    "# Build the model"
   ]
  },
  {
   "cell_type": "code",
   "execution_count": 7,
   "metadata": {},
   "outputs": [],
   "source": [
    "model = Sequential()\n",
    "\n",
    "model.add(Conv2D(32, (5, 5), input_shape=(28, 28, 1), activation='relu'))\n",
    "model.add(MaxPooling2D(pool_size=(2, 2)))\n",
    "model.add(Dropout(0.5))\n",
    "model.add(Conv2D(64, (3, 3), activation='relu'))\n",
    "model.add(MaxPooling2D(pool_size=(2, 2)))\n",
    "model.add(Dropout(0.2))\n",
    "model.add(Conv2D(128, (1, 1), activation='relu'))\n",
    "model.add(MaxPooling2D(pool_size=(2, 2)))\n",
    "model.add(Dropout(0.2))\n",
    "model.add(Flatten())\n",
    "model.add(Dense(128, activation='relu'))\n",
    "model.add(Dense(num_classes, activation='softmax'))\n",
    "\n",
    "model.compile(loss='categorical_crossentropy', optimizer='adam', metrics=['accuracy'])"
   ]
  },
  {
   "cell_type": "code",
   "execution_count": 8,
   "metadata": {},
   "outputs": [
    {
     "name": "stdout",
     "output_type": "stream",
     "text": [
      "_________________________________________________________________\n",
      "Layer (type)                 Output Shape              Param #   \n",
      "=================================================================\n",
      "conv2d_1 (Conv2D)            (None, 24, 24, 32)        832       \n",
      "_________________________________________________________________\n",
      "max_pooling2d_1 (MaxPooling2 (None, 12, 12, 32)        0         \n",
      "_________________________________________________________________\n",
      "dropout_1 (Dropout)          (None, 12, 12, 32)        0         \n",
      "_________________________________________________________________\n",
      "conv2d_2 (Conv2D)            (None, 10, 10, 64)        18496     \n",
      "_________________________________________________________________\n",
      "max_pooling2d_2 (MaxPooling2 (None, 5, 5, 64)          0         \n",
      "_________________________________________________________________\n",
      "dropout_2 (Dropout)          (None, 5, 5, 64)          0         \n",
      "_________________________________________________________________\n",
      "conv2d_3 (Conv2D)            (None, 5, 5, 128)         8320      \n",
      "_________________________________________________________________\n",
      "max_pooling2d_3 (MaxPooling2 (None, 2, 2, 128)         0         \n",
      "_________________________________________________________________\n",
      "dropout_3 (Dropout)          (None, 2, 2, 128)         0         \n",
      "_________________________________________________________________\n",
      "flatten_1 (Flatten)          (None, 512)               0         \n",
      "_________________________________________________________________\n",
      "dense_1 (Dense)              (None, 128)               65664     \n",
      "_________________________________________________________________\n",
      "dense_2 (Dense)              (None, 10)                1290      \n",
      "=================================================================\n",
      "Total params: 94,602\n",
      "Trainable params: 94,602\n",
      "Non-trainable params: 0\n",
      "_________________________________________________________________\n"
     ]
    }
   ],
   "source": [
    "model.summary()"
   ]
  },
  {
   "cell_type": "markdown",
   "metadata": {},
   "source": [
    "# Train the model"
   ]
  },
  {
   "cell_type": "code",
   "execution_count": 9,
   "metadata": {},
   "outputs": [
    {
     "name": "stdout",
     "output_type": "stream",
     "text": [
      "Train on 60000 samples, validate on 10000 samples\n",
      "Epoch 1/10\n",
      " - 36s - loss: 0.6229 - acc: 0.7940 - val_loss: 0.1398 - val_acc: 0.9584\n",
      "Epoch 2/10\n",
      " - 35s - loss: 0.1914 - acc: 0.9397 - val_loss: 0.0786 - val_acc: 0.9765\n",
      "Epoch 3/10\n",
      " - 35s - loss: 0.1379 - acc: 0.9568 - val_loss: 0.0611 - val_acc: 0.9819\n",
      "Epoch 4/10\n",
      " - 35s - loss: 0.1137 - acc: 0.9643 - val_loss: 0.0547 - val_acc: 0.9839\n",
      "Epoch 5/10\n",
      " - 35s - loss: 0.0976 - acc: 0.9698 - val_loss: 0.0439 - val_acc: 0.9881\n",
      "Epoch 6/10\n",
      " - 35s - loss: 0.0844 - acc: 0.9727 - val_loss: 0.0408 - val_acc: 0.9882\n",
      "Epoch 7/10\n",
      " - 35s - loss: 0.0778 - acc: 0.9752 - val_loss: 0.0363 - val_acc: 0.9899\n",
      "Epoch 8/10\n",
      " - 35s - loss: 0.0720 - acc: 0.9768 - val_loss: 0.0349 - val_acc: 0.9901\n",
      "Epoch 9/10\n",
      " - 35s - loss: 0.0669 - acc: 0.9792 - val_loss: 0.0318 - val_acc: 0.9905\n",
      "Epoch 10/10\n",
      " - 35s - loss: 0.0638 - acc: 0.9798 - val_loss: 0.0325 - val_acc: 0.9910\n"
     ]
    },
    {
     "data": {
      "text/plain": [
       "<keras.callbacks.History at 0x115f38e50>"
      ]
     },
     "execution_count": 9,
     "metadata": {},
     "output_type": "execute_result"
    }
   ],
   "source": [
    "model.fit(X_train, y_train, validation_data=(X_test, y_test), epochs=10, batch_size=200, verbose=2)"
   ]
  },
  {
   "cell_type": "markdown",
   "metadata": {},
   "source": [
    "# Remove Dropouts for Inference"
   ]
  },
  {
   "cell_type": "code",
   "execution_count": 10,
   "metadata": {},
   "outputs": [],
   "source": [
    "for k in model.layers:\n",
    "    if type(k) is keras.layers.Dropout:\n",
    "        model.layers.remove(k)"
   ]
  },
  {
   "cell_type": "code",
   "execution_count": 11,
   "metadata": {},
   "outputs": [
    {
     "name": "stdout",
     "output_type": "stream",
     "text": [
      "_________________________________________________________________\n",
      "Layer (type)                 Output Shape              Param #   \n",
      "=================================================================\n",
      "conv2d_1 (Conv2D)            (None, 24, 24, 32)        832       \n",
      "_________________________________________________________________\n",
      "max_pooling2d_1 (MaxPooling2 (None, 12, 12, 32)        0         \n",
      "_________________________________________________________________\n",
      "conv2d_2 (Conv2D)            (None, 10, 10, 64)        18496     \n",
      "_________________________________________________________________\n",
      "max_pooling2d_2 (MaxPooling2 (None, 5, 5, 64)          0         \n",
      "_________________________________________________________________\n",
      "conv2d_3 (Conv2D)            (None, 5, 5, 128)         8320      \n",
      "_________________________________________________________________\n",
      "max_pooling2d_3 (MaxPooling2 (None, 2, 2, 128)         0         \n",
      "_________________________________________________________________\n",
      "flatten_1 (Flatten)          (None, 512)               0         \n",
      "_________________________________________________________________\n",
      "dense_1 (Dense)              (None, 128)               65664     \n",
      "_________________________________________________________________\n",
      "dense_2 (Dense)              (None, 10)                1290      \n",
      "=================================================================\n",
      "Total params: 94,602\n",
      "Trainable params: 94,602\n",
      "Non-trainable params: 0\n",
      "_________________________________________________________________\n"
     ]
    }
   ],
   "source": [
    "model.summary()"
   ]
  },
  {
   "cell_type": "code",
   "execution_count": 12,
   "metadata": {},
   "outputs": [
    {
     "name": "stdout",
     "output_type": "stream",
     "text": [
      "mnistCNN.h5 saved\n"
     ]
    }
   ],
   "source": [
    "# Save the model\n",
    "model.save('mnistCNN.h5')\n",
    "print('mnistCNN.h5 saved')"
   ]
  },
  {
   "cell_type": "markdown",
   "metadata": {},
   "source": [
    "# Convert"
   ]
  },
  {
   "cell_type": "code",
   "execution_count": 14,
   "metadata": {},
   "outputs": [
    {
     "name": "stdout",
     "output_type": "stream",
     "text": [
      "0 : conv2d_1_input, <keras.engine.topology.InputLayer object at 0x1167ecc90>\n",
      "1 : conv2d_1, <keras.layers.convolutional.Conv2D object at 0x1167ec6d0>\n",
      "2 : conv2d_1__activation__, <keras.layers.core.Activation object at 0x12e7413d0>\n",
      "3 : max_pooling2d_1, <keras.layers.pooling.MaxPooling2D object at 0x1167ec590>\n",
      "4 : conv2d_2, <keras.layers.convolutional.Conv2D object at 0x1167ec390>\n",
      "5 : conv2d_2__activation__, <keras.layers.core.Activation object at 0x12e4d38d0>\n",
      "6 : max_pooling2d_2, <keras.layers.pooling.MaxPooling2D object at 0x1167ece50>\n",
      "7 : conv2d_3, <keras.layers.convolutional.Conv2D object at 0x116a3b790>\n",
      "8 : conv2d_3__activation__, <keras.layers.core.Activation object at 0x12e4d3b10>\n",
      "9 : max_pooling2d_3, <keras.layers.pooling.MaxPooling2D object at 0x11681f490>\n",
      "10 : flatten_1, <keras.layers.core.Flatten object at 0x116a53f50>\n",
      "11 : dense_1, <keras.layers.core.Dense object at 0x12e43d7d0>\n",
      "12 : dense_1__activation__, <keras.layers.core.Activation object at 0x12e4d37d0>\n",
      "13 : dense_2, <keras.layers.core.Dense object at 0x12e460b90>\n",
      "14 : dense_2__activation__, <keras.layers.core.Activation object at 0x12e4d3b50>\n",
      "mnistCNN.mlmodel saved\n"
     ]
    }
   ],
   "source": [
    "import coremltools\n",
    "\n",
    "output_labels = ['0', '1', '2', '3', '4', '5', '6', '7', '8', '9']\n",
    "scale = 1/255.\n",
    "coreml_model = coremltools.converters.keras.convert('./mnistCNN.h5',\n",
    "                                                   input_names='image',\n",
    "                                                   image_input_names='image',\n",
    "                                                   output_names='output',\n",
    "                                                   class_labels=output_labels,\n",
    "                                                   image_scale=scale)\n",
    "\n",
    "coreml_model.author = 'iOSDevLog'\n",
    "coreml_model.license = 'MIT'\n",
    "coreml_model.short_description = 'Model to classify hand written digit'\n",
    "\n",
    "coreml_model.input_description['image'] = 'Grayscale image of hand written digit'\n",
    "coreml_model.output_description['output'] = 'Predicted digit'\n",
    "\n",
    "coreml_model.save('mnistCNN.mlmodel')\n",
    "print('mnistCNN.mlmodel saved')"
   ]
  },
  {
   "cell_type": "code",
   "execution_count": null,
   "metadata": {},
   "outputs": [],
   "source": []
  }
 ],
 "metadata": {
  "kernelspec": {
   "display_name": "Python 2",
   "language": "python",
   "name": "python2"
  },
  "language_info": {
   "codemirror_mode": {
    "name": "ipython",
    "version": 2
   },
   "file_extension": ".py",
   "mimetype": "text/x-python",
   "name": "python",
   "nbconvert_exporter": "python",
   "pygments_lexer": "ipython2",
   "version": "2.7.10"
  }
 },
 "nbformat": 4,
 "nbformat_minor": 2
}
